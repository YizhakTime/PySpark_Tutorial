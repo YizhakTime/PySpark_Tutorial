{
 "cells": [
  {
   "cell_type": "code",
   "execution_count": null,
   "id": "032ceb5f-e7a3-443d-bc2d-f95f4411e198",
   "metadata": {},
   "outputs": [],
   "source": [
    "!pip install pyspark"
   ]
  },
  {
   "cell_type": "markdown",
   "id": "4c586819-1b3c-4793-bc17-d2a511f52a2e",
   "metadata": {},
   "source": [
    "#### If you want to install pyspark with sql, plotly or connect"
   ]
  },
  {
   "cell_type": "code",
   "execution_count": null,
   "id": "62a366a3-d730-4cfe-9e33-7aca81ae1e77",
   "metadata": {},
   "outputs": [],
   "source": [
    "!pip install pyspark[sql]\n",
    "!pip install pyspark[pandas_on_spark] plotly\n",
    "!pip install pyspark[connect]"
   ]
  },
  {
   "cell_type": "code",
   "execution_count": 65,
   "id": "94fc32b3-cce2-4128-ad27-745f1a622399",
   "metadata": {},
   "outputs": [],
   "source": [
    "from pyspark.sql import SparkSession, Column, Row\n",
    "from datetime import datetime, date\n",
    "import pandas as pd\n",
    "import numpy as np\n",
    "import time\n",
    "from pyspark import SparkConf\n",
    "from pyspark.sql.functions import pandas_udf, expr, upper, floor, round, col, avg, lit\n",
    "from pyspark.sql.types import IntegerType, StringType, StructType, StructField, TimestampType, FloatType, DateType, LongType\n",
    "#When import pyspark pandas set TIMEZONE to 1\n",
    "import os\n",
    "os.environ[\"PYARROW_IGNORE_TIMEZONE\"] = \"1\"\n",
    "import pyspark.pandas as ps"
   ]
  },
  {
   "cell_type": "markdown",
   "id": "3164e7e5-a4ff-4ced-b5e7-4214436a8986",
   "metadata": {},
   "source": [
    "# Build Spark Session"
   ]
  },
  {
   "cell_type": "code",
   "execution_count": 84,
   "id": "72d6d5eb-de75-495a-8da9-f7f06f1fab3d",
   "metadata": {},
   "outputs": [],
   "source": [
    "spark = SparkSession.builder.getOrCreate()\n",
    "# default, app name is pyspark-shell"
   ]
  },
  {
   "cell_type": "code",
   "execution_count": null,
   "id": "b6e0e379-d98d-41cc-aa84-906f57aa4af4",
   "metadata": {},
   "outputs": [],
   "source": [
    "spark = SparkSession.builder.appName(\"spark1\").getOrCreate()\n",
    "# add app name"
   ]
  },
  {
   "cell_type": "markdown",
   "id": "89269e03-4c17-4538-baf8-ad3ec303bf16",
   "metadata": {},
   "source": [
    "# Timing Pandas read_csv"
   ]
  },
  {
   "cell_type": "code",
   "execution_count": 70,
   "id": "af5fdd52-eed9-4437-92f8-45d17b6ae750",
   "metadata": {
    "scrolled": true
   },
   "outputs": [],
   "source": [
    "df = pd.read_csv('Crime_Data_from_2020_to_Present.csv')"
   ]
  },
  {
   "cell_type": "code",
   "execution_count": 71,
   "id": "d76b031d-809d-405b-8fdd-0c4558c2bfb2",
   "metadata": {},
   "outputs": [
    {
     "name": "stdout",
     "output_type": "stream",
     "text": [
      "Time taken 92.688306705 seconds\n"
     ]
    }
   ],
   "source": [
    "s1 = time.time_ns()\n",
    "df_large = pd.read_csv('Crimes_2001_to_Present.csv')\n",
    "e1 = time.time_ns()\n",
    "print(\"Time taken\", ((e1-s1)/(10**9)), \"seconds\")"
   ]
  },
  {
   "cell_type": "code",
   "execution_count": 72,
   "id": "da43fd53-c8fb-4c3e-9921-0bd9fab28d9c",
   "metadata": {},
   "outputs": [
    {
     "data": {
      "text/plain": [
       "(986873, 28)"
      ]
     },
     "execution_count": 72,
     "metadata": {},
     "output_type": "execute_result"
    }
   ],
   "source": [
    "df.shape"
   ]
  },
  {
   "cell_type": "code",
   "execution_count": 73,
   "id": "cd26ef2d-2bb8-4bf0-9598-fb33321dbb4b",
   "metadata": {},
   "outputs": [
    {
     "data": {
      "text/plain": [
       "DR_NO               int64\n",
       "Date Rptd          object\n",
       "DATE OCC           object\n",
       "TIME OCC            int64\n",
       "AREA                int64\n",
       "AREA NAME          object\n",
       "Rpt Dist No         int64\n",
       "Part 1-2            int64\n",
       "Crm Cd              int64\n",
       "Crm Cd Desc        object\n",
       "Mocodes            object\n",
       "Vict Age            int64\n",
       "Vict Sex           object\n",
       "Vict Descent       object\n",
       "Premis Cd         float64\n",
       "Premis Desc        object\n",
       "Weapon Used Cd    float64\n",
       "Weapon Desc        object\n",
       "Status             object\n",
       "Status Desc        object\n",
       "Crm Cd 1          float64\n",
       "Crm Cd 2          float64\n",
       "Crm Cd 3          float64\n",
       "Crm Cd 4          float64\n",
       "LOCATION           object\n",
       "Cross Street       object\n",
       "LAT               float64\n",
       "LON               float64\n",
       "dtype: object"
      ]
     },
     "execution_count": 73,
     "metadata": {},
     "output_type": "execute_result"
    }
   ],
   "source": [
    "df.dtypes"
   ]
  },
  {
   "cell_type": "markdown",
   "id": "48be9ba7-faa7-4a85-acac-2f9b50d8fe2a",
   "metadata": {},
   "source": [
    "# Timing PySpark sql read.csv"
   ]
  },
  {
   "cell_type": "markdown",
   "id": "ccfe90d5-b233-49f6-be68-a1f2eab18f8a",
   "metadata": {},
   "source": [
    "Creates sql-like data frame"
   ]
  },
  {
   "cell_type": "code",
   "execution_count": 85,
   "id": "2a0a0708-8808-4299-baf4-91c5b4bb9ff6",
   "metadata": {},
   "outputs": [
    {
     "name": "stderr",
     "output_type": "stream",
     "text": [
      "                                                                                \r"
     ]
    }
   ],
   "source": [
    "df_s = spark.read.csv('Crime_Data_from_2020_to_Present.csv', header=True, inferSchema=True)"
   ]
  },
  {
   "cell_type": "code",
   "execution_count": 86,
   "id": "4476cd6e-551c-433c-838b-a7e9a93905a1",
   "metadata": {},
   "outputs": [
    {
     "name": "stdout",
     "output_type": "stream",
     "text": [
      "Time taken 0.096119106 seconds\n"
     ]
    }
   ],
   "source": [
    "s2 = time.time_ns()\n",
    "s_large = spark.read.csv('Crimes_2001_to_Present.csv', header=True)\n",
    "e2 = time.time_ns()\n",
    "print(\"Time taken\", ((e2-s2)/(10**9)), \"seconds\")"
   ]
  },
  {
   "cell_type": "markdown",
   "id": "cc94faab-e75f-47b9-bae5-78b76f209b68",
   "metadata": {},
   "source": [
    "### Display top n rows \n",
    "#### (similar to head)"
   ]
  },
  {
   "cell_type": "code",
   "execution_count": 76,
   "id": "fcea67a1-7d45-49e0-9f78-8c2261caec6f",
   "metadata": {},
   "outputs": [
    {
     "name": "stdout",
     "output_type": "stream",
     "text": [
      "-RECORD 0------------------------------\n",
      " DR_NO          | 190326475            \n",
      " Date Rptd      | 03/01/2020 12:00:... \n",
      " DATE OCC       | 03/01/2020 12:00:... \n",
      " TIME OCC       | 2130                 \n",
      " AREA           | 7                    \n",
      " AREA NAME      | Wilshire             \n",
      " Rpt Dist No    | 784                  \n",
      " Part 1-2       | 1                    \n",
      " Crm Cd         | 510                  \n",
      " Crm Cd Desc    | VEHICLE - STOLEN     \n",
      " Mocodes        | NULL                 \n",
      " Vict Age       | 0                    \n",
      " Vict Sex       | M                    \n",
      " Vict Descent   | O                    \n",
      " Premis Cd      | 101                  \n",
      " Premis Desc    | STREET               \n",
      " Weapon Used Cd | NULL                 \n",
      " Weapon Desc    | NULL                 \n",
      " Status         | AA                   \n",
      " Status Desc    | Adult Arrest         \n",
      " Crm Cd 1       | 510                  \n",
      " Crm Cd 2       | 998                  \n",
      " Crm Cd 3       | NULL                 \n",
      " Crm Cd 4       | NULL                 \n",
      " LOCATION       | 1900 S  LONGWOOD ... \n",
      " Cross Street   | NULL                 \n",
      " LAT            | 34.0375              \n",
      " LON            | -118.3506            \n",
      "only showing top 1 row\n",
      "\n"
     ]
    }
   ],
   "source": [
    "df_s.show(1, vertical=True)"
   ]
  },
  {
   "cell_type": "markdown",
   "id": "a3a6b443-a52a-4c6f-9e72-39c30105c633",
   "metadata": {},
   "source": [
    "### Print schema (sql)"
   ]
  },
  {
   "cell_type": "markdown",
   "id": "de7c67aa-d3eb-4484-90c5-35a9c3b06757",
   "metadata": {},
   "source": [
    "#### similar to pandas dtypes"
   ]
  },
  {
   "cell_type": "code",
   "execution_count": 87,
   "id": "1073d747-51d2-425f-9ad0-987b7d79f0ae",
   "metadata": {},
   "outputs": [
    {
     "name": "stdout",
     "output_type": "stream",
     "text": [
      "root\n",
      " |-- DR_NO: integer (nullable = true)\n",
      " |-- Date Rptd: string (nullable = true)\n",
      " |-- DATE OCC: string (nullable = true)\n",
      " |-- TIME OCC: integer (nullable = true)\n",
      " |-- AREA: integer (nullable = true)\n",
      " |-- AREA NAME: string (nullable = true)\n",
      " |-- Rpt Dist No: integer (nullable = true)\n",
      " |-- Part 1-2: integer (nullable = true)\n",
      " |-- Crm Cd: integer (nullable = true)\n",
      " |-- Crm Cd Desc: string (nullable = true)\n",
      " |-- Mocodes: string (nullable = true)\n",
      " |-- Vict Age: integer (nullable = true)\n",
      " |-- Vict Sex: string (nullable = true)\n",
      " |-- Vict Descent: string (nullable = true)\n",
      " |-- Premis Cd: integer (nullable = true)\n",
      " |-- Premis Desc: string (nullable = true)\n",
      " |-- Weapon Used Cd: integer (nullable = true)\n",
      " |-- Weapon Desc: string (nullable = true)\n",
      " |-- Status: string (nullable = true)\n",
      " |-- Status Desc: string (nullable = true)\n",
      " |-- Crm Cd 1: integer (nullable = true)\n",
      " |-- Crm Cd 2: integer (nullable = true)\n",
      " |-- Crm Cd 3: integer (nullable = true)\n",
      " |-- Crm Cd 4: integer (nullable = true)\n",
      " |-- LOCATION: string (nullable = true)\n",
      " |-- Cross Street: string (nullable = true)\n",
      " |-- LAT: double (nullable = true)\n",
      " |-- LON: double (nullable = true)\n",
      "\n"
     ]
    }
   ],
   "source": [
    "df_s.printSchema()"
   ]
  },
  {
   "cell_type": "markdown",
   "id": "7731519b-b57a-4086-a6ea-2157b867a9ef",
   "metadata": {},
   "source": [
    "### Print column"
   ]
  },
  {
   "cell_type": "code",
   "execution_count": 88,
   "id": "67604990-b85f-483e-baa0-8905aa221540",
   "metadata": {},
   "outputs": [
    {
     "data": {
      "text/plain": [
       "['DR_NO',\n",
       " 'Date Rptd',\n",
       " 'DATE OCC',\n",
       " 'TIME OCC',\n",
       " 'AREA',\n",
       " 'AREA NAME',\n",
       " 'Rpt Dist No',\n",
       " 'Part 1-2',\n",
       " 'Crm Cd',\n",
       " 'Crm Cd Desc',\n",
       " 'Mocodes',\n",
       " 'Vict Age',\n",
       " 'Vict Sex',\n",
       " 'Vict Descent',\n",
       " 'Premis Cd',\n",
       " 'Premis Desc',\n",
       " 'Weapon Used Cd',\n",
       " 'Weapon Desc',\n",
       " 'Status',\n",
       " 'Status Desc',\n",
       " 'Crm Cd 1',\n",
       " 'Crm Cd 2',\n",
       " 'Crm Cd 3',\n",
       " 'Crm Cd 4',\n",
       " 'LOCATION',\n",
       " 'Cross Street',\n",
       " 'LAT',\n",
       " 'LON']"
      ]
     },
     "execution_count": 88,
     "metadata": {},
     "output_type": "execute_result"
    }
   ],
   "source": [
    "df_s.columns"
   ]
  },
  {
   "cell_type": "code",
   "execution_count": 89,
   "id": "7a99f96d-972c-41ab-ae54-ebeff9138baf",
   "metadata": {},
   "outputs": [
    {
     "data": {
      "text/plain": [
       "['ID',\n",
       " 'Case Number',\n",
       " 'Date',\n",
       " 'Block',\n",
       " 'IUCR',\n",
       " 'Primary Type',\n",
       " 'Description',\n",
       " 'Location Description',\n",
       " 'Arrest',\n",
       " 'Domestic',\n",
       " 'Beat',\n",
       " 'District',\n",
       " 'Ward',\n",
       " 'Community Area',\n",
       " 'FBI Code',\n",
       " 'X Coordinate',\n",
       " 'Y Coordinate',\n",
       " 'Year',\n",
       " 'Updated On',\n",
       " 'Latitude',\n",
       " 'Longitude',\n",
       " 'Location']"
      ]
     },
     "execution_count": 89,
     "metadata": {},
     "output_type": "execute_result"
    }
   ],
   "source": [
    "s_large.columns"
   ]
  },
  {
   "cell_type": "markdown",
   "id": "05bd5195-46e8-4d80-9d3d-31deae4cc9b9",
   "metadata": {},
   "source": [
    "#### Can select multiple columns"
   ]
  },
  {
   "cell_type": "code",
   "execution_count": 90,
   "id": "3b01e1c0-4bfd-4ff4-8332-391189226924",
   "metadata": {},
   "outputs": [
    {
     "name": "stdout",
     "output_type": "stream",
     "text": [
      "+----+--------------------+\n",
      "|AREA|            DATE OCC|\n",
      "+----+--------------------+\n",
      "|   7|03/01/2020 12:00:...|\n",
      "|   1|02/08/2020 12:00:...|\n",
      "|   3|11/04/2020 12:00:...|\n",
      "|   9|03/10/2020 12:00:...|\n",
      "|   4|09/09/2020 12:00:...|\n",
      "+----+--------------------+\n",
      "only showing top 5 rows\n",
      "\n"
     ]
    }
   ],
   "source": [
    "df_s.select('AREA', 'DATE OCC').show(5)"
   ]
  },
  {
   "cell_type": "code",
   "execution_count": 91,
   "id": "6f020135-242a-4a36-9e42-759b2d0eb12a",
   "metadata": {},
   "outputs": [
    {
     "name": "stdout",
     "output_type": "stream",
     "text": [
      "+----+--------------------+\n",
      "|AREA|            DATE OCC|\n",
      "+----+--------------------+\n",
      "|   7|03/01/2020 12:00:...|\n",
      "|   1|02/08/2020 12:00:...|\n",
      "|   3|11/04/2020 12:00:...|\n",
      "|   9|03/10/2020 12:00:...|\n",
      "|   4|09/09/2020 12:00:...|\n",
      "+----+--------------------+\n",
      "only showing top 5 rows\n",
      "\n"
     ]
    }
   ],
   "source": [
    "df_s.select(\n",
    "  col(\"AREA\"),\n",
    "  col(\"DATE OCC\")\n",
    ").show(5)"
   ]
  },
  {
   "cell_type": "markdown",
   "id": "f6f41d8a-dd4e-435d-b458-934783a72cf8",
   "metadata": {},
   "source": [
    "Can do sql like query"
   ]
  },
  {
   "cell_type": "code",
   "execution_count": 92,
   "id": "4e36a039-5323-4d53-b56d-ed5dc8e9ff78",
   "metadata": {},
   "outputs": [
    {
     "name": "stdout",
     "output_type": "stream",
     "text": [
      "+----+--------------------+\n",
      "|area|                 occ|\n",
      "+----+--------------------+\n",
      "|   7|03/01/2020 12:00:...|\n",
      "|   1|02/08/2020 12:00:...|\n",
      "|   3|11/04/2020 12:00:...|\n",
      "|   9|03/10/2020 12:00:...|\n",
      "|   4|09/09/2020 12:00:...|\n",
      "+----+--------------------+\n",
      "only showing top 5 rows\n",
      "\n"
     ]
    }
   ],
   "source": [
    "df_s.selectExpr(\n",
    "  \"AREA as area\",\n",
    "  \"`DATE OCC` as occ\"\n",
    ").show(5)"
   ]
  },
  {
   "cell_type": "markdown",
   "id": "03f0b740-7616-4f13-846f-61b398e4a5d5",
   "metadata": {},
   "source": [
    "#### Return n rows as list"
   ]
  },
  {
   "cell_type": "code",
   "execution_count": 93,
   "id": "00837791-b5bb-4a38-8823-f7cb9bcc91f6",
   "metadata": {},
   "outputs": [
    {
     "data": {
      "text/plain": [
       "[Row(DR_NO=190326475, Date Rptd='03/01/2020 12:00:00 AM', DATE OCC='03/01/2020 12:00:00 AM', TIME OCC=2130, AREA=7, AREA NAME='Wilshire', Rpt Dist No=784, Part 1-2=1, Crm Cd=510, Crm Cd Desc='VEHICLE - STOLEN', Mocodes=None, Vict Age=0, Vict Sex='M', Vict Descent='O', Premis Cd=101, Premis Desc='STREET', Weapon Used Cd=None, Weapon Desc=None, Status='AA', Status Desc='Adult Arrest', Crm Cd 1=510, Crm Cd 2=998, Crm Cd 3=None, Crm Cd 4=None, LOCATION='1900 S  LONGWOOD                     AV', Cross Street=None, LAT=34.0375, LON=-118.3506)]"
      ]
     },
     "execution_count": 93,
     "metadata": {},
     "output_type": "execute_result"
    }
   ],
   "source": [
    "df_s.take(1)"
   ]
  },
  {
   "cell_type": "markdown",
   "id": "327ec94d-071f-4735-b041-72d1262e9dda",
   "metadata": {},
   "source": [
    "#### convert to pandas"
   ]
  },
  {
   "cell_type": "code",
   "execution_count": 94,
   "id": "9a96f1a4-3af4-4e9f-9c49-09b4714e62a4",
   "metadata": {},
   "outputs": [
    {
     "name": "stderr",
     "output_type": "stream",
     "text": [
      "                                                                                \r"
     ]
    },
    {
     "data": {
      "text/html": [
       "<div>\n",
       "<style scoped>\n",
       "    .dataframe tbody tr th:only-of-type {\n",
       "        vertical-align: middle;\n",
       "    }\n",
       "\n",
       "    .dataframe tbody tr th {\n",
       "        vertical-align: top;\n",
       "    }\n",
       "\n",
       "    .dataframe thead th {\n",
       "        text-align: right;\n",
       "    }\n",
       "</style>\n",
       "<table border=\"1\" class=\"dataframe\">\n",
       "  <thead>\n",
       "    <tr style=\"text-align: right;\">\n",
       "      <th></th>\n",
       "      <th>DR_NO</th>\n",
       "      <th>Date Rptd</th>\n",
       "      <th>DATE OCC</th>\n",
       "      <th>TIME OCC</th>\n",
       "      <th>AREA</th>\n",
       "      <th>AREA NAME</th>\n",
       "      <th>Rpt Dist No</th>\n",
       "      <th>Part 1-2</th>\n",
       "      <th>Crm Cd</th>\n",
       "      <th>Crm Cd Desc</th>\n",
       "      <th>...</th>\n",
       "      <th>Status</th>\n",
       "      <th>Status Desc</th>\n",
       "      <th>Crm Cd 1</th>\n",
       "      <th>Crm Cd 2</th>\n",
       "      <th>Crm Cd 3</th>\n",
       "      <th>Crm Cd 4</th>\n",
       "      <th>LOCATION</th>\n",
       "      <th>Cross Street</th>\n",
       "      <th>LAT</th>\n",
       "      <th>LON</th>\n",
       "    </tr>\n",
       "  </thead>\n",
       "  <tbody>\n",
       "    <tr>\n",
       "      <th>0</th>\n",
       "      <td>190326475</td>\n",
       "      <td>03/01/2020 12:00:00 AM</td>\n",
       "      <td>03/01/2020 12:00:00 AM</td>\n",
       "      <td>2130</td>\n",
       "      <td>7</td>\n",
       "      <td>Wilshire</td>\n",
       "      <td>784</td>\n",
       "      <td>1</td>\n",
       "      <td>510</td>\n",
       "      <td>VEHICLE - STOLEN</td>\n",
       "      <td>...</td>\n",
       "      <td>AA</td>\n",
       "      <td>Adult Arrest</td>\n",
       "      <td>510.0</td>\n",
       "      <td>998.0</td>\n",
       "      <td>NaN</td>\n",
       "      <td>NaN</td>\n",
       "      <td>1900 S  LONGWOOD                     AV</td>\n",
       "      <td>None</td>\n",
       "      <td>34.0375</td>\n",
       "      <td>-118.3506</td>\n",
       "    </tr>\n",
       "    <tr>\n",
       "      <th>1</th>\n",
       "      <td>200106753</td>\n",
       "      <td>02/09/2020 12:00:00 AM</td>\n",
       "      <td>02/08/2020 12:00:00 AM</td>\n",
       "      <td>1800</td>\n",
       "      <td>1</td>\n",
       "      <td>Central</td>\n",
       "      <td>182</td>\n",
       "      <td>1</td>\n",
       "      <td>330</td>\n",
       "      <td>BURGLARY FROM VEHICLE</td>\n",
       "      <td>...</td>\n",
       "      <td>IC</td>\n",
       "      <td>Invest Cont</td>\n",
       "      <td>330.0</td>\n",
       "      <td>998.0</td>\n",
       "      <td>NaN</td>\n",
       "      <td>NaN</td>\n",
       "      <td>1000 S  FLOWER                       ST</td>\n",
       "      <td>None</td>\n",
       "      <td>34.0444</td>\n",
       "      <td>-118.2628</td>\n",
       "    </tr>\n",
       "    <tr>\n",
       "      <th>2</th>\n",
       "      <td>200320258</td>\n",
       "      <td>11/11/2020 12:00:00 AM</td>\n",
       "      <td>11/04/2020 12:00:00 AM</td>\n",
       "      <td>1700</td>\n",
       "      <td>3</td>\n",
       "      <td>Southwest</td>\n",
       "      <td>356</td>\n",
       "      <td>1</td>\n",
       "      <td>480</td>\n",
       "      <td>BIKE - STOLEN</td>\n",
       "      <td>...</td>\n",
       "      <td>IC</td>\n",
       "      <td>Invest Cont</td>\n",
       "      <td>480.0</td>\n",
       "      <td>NaN</td>\n",
       "      <td>NaN</td>\n",
       "      <td>NaN</td>\n",
       "      <td>1400 W  37TH                         ST</td>\n",
       "      <td>None</td>\n",
       "      <td>34.0210</td>\n",
       "      <td>-118.3002</td>\n",
       "    </tr>\n",
       "    <tr>\n",
       "      <th>3</th>\n",
       "      <td>200907217</td>\n",
       "      <td>05/10/2023 12:00:00 AM</td>\n",
       "      <td>03/10/2020 12:00:00 AM</td>\n",
       "      <td>2037</td>\n",
       "      <td>9</td>\n",
       "      <td>Van Nuys</td>\n",
       "      <td>964</td>\n",
       "      <td>1</td>\n",
       "      <td>343</td>\n",
       "      <td>SHOPLIFTING-GRAND THEFT ($950.01 &amp; OVER)</td>\n",
       "      <td>...</td>\n",
       "      <td>IC</td>\n",
       "      <td>Invest Cont</td>\n",
       "      <td>343.0</td>\n",
       "      <td>NaN</td>\n",
       "      <td>NaN</td>\n",
       "      <td>NaN</td>\n",
       "      <td>14000    RIVERSIDE                    DR</td>\n",
       "      <td>None</td>\n",
       "      <td>34.1576</td>\n",
       "      <td>-118.4387</td>\n",
       "    </tr>\n",
       "    <tr>\n",
       "      <th>4</th>\n",
       "      <td>200412582</td>\n",
       "      <td>09/09/2020 12:00:00 AM</td>\n",
       "      <td>09/09/2020 12:00:00 AM</td>\n",
       "      <td>630</td>\n",
       "      <td>4</td>\n",
       "      <td>Hollenbeck</td>\n",
       "      <td>413</td>\n",
       "      <td>1</td>\n",
       "      <td>510</td>\n",
       "      <td>VEHICLE - STOLEN</td>\n",
       "      <td>...</td>\n",
       "      <td>IC</td>\n",
       "      <td>Invest Cont</td>\n",
       "      <td>510.0</td>\n",
       "      <td>NaN</td>\n",
       "      <td>NaN</td>\n",
       "      <td>NaN</td>\n",
       "      <td>200 E  AVENUE 28</td>\n",
       "      <td>None</td>\n",
       "      <td>34.0820</td>\n",
       "      <td>-118.2130</td>\n",
       "    </tr>\n",
       "    <tr>\n",
       "      <th>...</th>\n",
       "      <td>...</td>\n",
       "      <td>...</td>\n",
       "      <td>...</td>\n",
       "      <td>...</td>\n",
       "      <td>...</td>\n",
       "      <td>...</td>\n",
       "      <td>...</td>\n",
       "      <td>...</td>\n",
       "      <td>...</td>\n",
       "      <td>...</td>\n",
       "      <td>...</td>\n",
       "      <td>...</td>\n",
       "      <td>...</td>\n",
       "      <td>...</td>\n",
       "      <td>...</td>\n",
       "      <td>...</td>\n",
       "      <td>...</td>\n",
       "      <td>...</td>\n",
       "      <td>...</td>\n",
       "      <td>...</td>\n",
       "      <td>...</td>\n",
       "    </tr>\n",
       "    <tr>\n",
       "      <th>986868</th>\n",
       "      <td>240710284</td>\n",
       "      <td>07/24/2024 12:00:00 AM</td>\n",
       "      <td>07/23/2024 12:00:00 AM</td>\n",
       "      <td>1400</td>\n",
       "      <td>7</td>\n",
       "      <td>Wilshire</td>\n",
       "      <td>788</td>\n",
       "      <td>1</td>\n",
       "      <td>510</td>\n",
       "      <td>VEHICLE - STOLEN</td>\n",
       "      <td>...</td>\n",
       "      <td>IC</td>\n",
       "      <td>Invest Cont</td>\n",
       "      <td>510.0</td>\n",
       "      <td>NaN</td>\n",
       "      <td>NaN</td>\n",
       "      <td>NaN</td>\n",
       "      <td>4000 W  23RD                         ST</td>\n",
       "      <td>None</td>\n",
       "      <td>34.0362</td>\n",
       "      <td>-118.3284</td>\n",
       "    </tr>\n",
       "    <tr>\n",
       "      <th>986869</th>\n",
       "      <td>240104953</td>\n",
       "      <td>01/15/2024 12:00:00 AM</td>\n",
       "      <td>01/15/2024 12:00:00 AM</td>\n",
       "      <td>100</td>\n",
       "      <td>1</td>\n",
       "      <td>Central</td>\n",
       "      <td>101</td>\n",
       "      <td>2</td>\n",
       "      <td>745</td>\n",
       "      <td>VANDALISM - MISDEAMEANOR ($399 OR UNDER)</td>\n",
       "      <td>...</td>\n",
       "      <td>IC</td>\n",
       "      <td>Invest Cont</td>\n",
       "      <td>745.0</td>\n",
       "      <td>NaN</td>\n",
       "      <td>NaN</td>\n",
       "      <td>NaN</td>\n",
       "      <td>1300 W  SUNSET                       BL</td>\n",
       "      <td>None</td>\n",
       "      <td>34.0685</td>\n",
       "      <td>-118.2460</td>\n",
       "    </tr>\n",
       "    <tr>\n",
       "      <th>986870</th>\n",
       "      <td>240410786</td>\n",
       "      <td>10/14/2024 12:00:00 AM</td>\n",
       "      <td>10/11/2024 12:00:00 AM</td>\n",
       "      <td>2330</td>\n",
       "      <td>4</td>\n",
       "      <td>Hollenbeck</td>\n",
       "      <td>421</td>\n",
       "      <td>1</td>\n",
       "      <td>341</td>\n",
       "      <td>THEFT-GRAND ($950.01 &amp; OVER)EXCPT,GUNS,FOWL,LI...</td>\n",
       "      <td>...</td>\n",
       "      <td>IC</td>\n",
       "      <td>Invest Cont</td>\n",
       "      <td>341.0</td>\n",
       "      <td>NaN</td>\n",
       "      <td>NaN</td>\n",
       "      <td>NaN</td>\n",
       "      <td>1700    ALBION                       ST</td>\n",
       "      <td>None</td>\n",
       "      <td>34.0675</td>\n",
       "      <td>-118.2240</td>\n",
       "    </tr>\n",
       "    <tr>\n",
       "      <th>986871</th>\n",
       "      <td>240309674</td>\n",
       "      <td>04/24/2024 12:00:00 AM</td>\n",
       "      <td>04/24/2024 12:00:00 AM</td>\n",
       "      <td>1500</td>\n",
       "      <td>3</td>\n",
       "      <td>Southwest</td>\n",
       "      <td>358</td>\n",
       "      <td>1</td>\n",
       "      <td>230</td>\n",
       "      <td>ASSAULT WITH DEADLY WEAPON, AGGRAVATED ASSAULT</td>\n",
       "      <td>...</td>\n",
       "      <td>IC</td>\n",
       "      <td>Invest Cont</td>\n",
       "      <td>230.0</td>\n",
       "      <td>NaN</td>\n",
       "      <td>NaN</td>\n",
       "      <td>NaN</td>\n",
       "      <td>FLOWER                       ST</td>\n",
       "      <td>JEFFERSON                    BL</td>\n",
       "      <td>34.0215</td>\n",
       "      <td>-118.2868</td>\n",
       "    </tr>\n",
       "    <tr>\n",
       "      <th>986872</th>\n",
       "      <td>240910892</td>\n",
       "      <td>08/13/2024 12:00:00 AM</td>\n",
       "      <td>08/12/2024 12:00:00 AM</td>\n",
       "      <td>2300</td>\n",
       "      <td>9</td>\n",
       "      <td>Van Nuys</td>\n",
       "      <td>914</td>\n",
       "      <td>1</td>\n",
       "      <td>510</td>\n",
       "      <td>VEHICLE - STOLEN</td>\n",
       "      <td>...</td>\n",
       "      <td>IC</td>\n",
       "      <td>Invest Cont</td>\n",
       "      <td>510.0</td>\n",
       "      <td>NaN</td>\n",
       "      <td>NaN</td>\n",
       "      <td>NaN</td>\n",
       "      <td>6900    VESPER                       AV</td>\n",
       "      <td>None</td>\n",
       "      <td>34.1961</td>\n",
       "      <td>-118.4510</td>\n",
       "    </tr>\n",
       "  </tbody>\n",
       "</table>\n",
       "<p>986873 rows × 28 columns</p>\n",
       "</div>"
      ],
      "text/plain": [
       "            DR_NO               Date Rptd                DATE OCC  TIME OCC  \\\n",
       "0       190326475  03/01/2020 12:00:00 AM  03/01/2020 12:00:00 AM      2130   \n",
       "1       200106753  02/09/2020 12:00:00 AM  02/08/2020 12:00:00 AM      1800   \n",
       "2       200320258  11/11/2020 12:00:00 AM  11/04/2020 12:00:00 AM      1700   \n",
       "3       200907217  05/10/2023 12:00:00 AM  03/10/2020 12:00:00 AM      2037   \n",
       "4       200412582  09/09/2020 12:00:00 AM  09/09/2020 12:00:00 AM       630   \n",
       "...           ...                     ...                     ...       ...   \n",
       "986868  240710284  07/24/2024 12:00:00 AM  07/23/2024 12:00:00 AM      1400   \n",
       "986869  240104953  01/15/2024 12:00:00 AM  01/15/2024 12:00:00 AM       100   \n",
       "986870  240410786  10/14/2024 12:00:00 AM  10/11/2024 12:00:00 AM      2330   \n",
       "986871  240309674  04/24/2024 12:00:00 AM  04/24/2024 12:00:00 AM      1500   \n",
       "986872  240910892  08/13/2024 12:00:00 AM  08/12/2024 12:00:00 AM      2300   \n",
       "\n",
       "        AREA   AREA NAME  Rpt Dist No  Part 1-2  Crm Cd  \\\n",
       "0          7    Wilshire          784         1     510   \n",
       "1          1     Central          182         1     330   \n",
       "2          3   Southwest          356         1     480   \n",
       "3          9    Van Nuys          964         1     343   \n",
       "4          4  Hollenbeck          413         1     510   \n",
       "...      ...         ...          ...       ...     ...   \n",
       "986868     7    Wilshire          788         1     510   \n",
       "986869     1     Central          101         2     745   \n",
       "986870     4  Hollenbeck          421         1     341   \n",
       "986871     3   Southwest          358         1     230   \n",
       "986872     9    Van Nuys          914         1     510   \n",
       "\n",
       "                                              Crm Cd Desc  ... Status  \\\n",
       "0                                        VEHICLE - STOLEN  ...     AA   \n",
       "1                                   BURGLARY FROM VEHICLE  ...     IC   \n",
       "2                                           BIKE - STOLEN  ...     IC   \n",
       "3                SHOPLIFTING-GRAND THEFT ($950.01 & OVER)  ...     IC   \n",
       "4                                        VEHICLE - STOLEN  ...     IC   \n",
       "...                                                   ...  ...    ...   \n",
       "986868                                   VEHICLE - STOLEN  ...     IC   \n",
       "986869           VANDALISM - MISDEAMEANOR ($399 OR UNDER)  ...     IC   \n",
       "986870  THEFT-GRAND ($950.01 & OVER)EXCPT,GUNS,FOWL,LI...  ...     IC   \n",
       "986871     ASSAULT WITH DEADLY WEAPON, AGGRAVATED ASSAULT  ...     IC   \n",
       "986872                                   VEHICLE - STOLEN  ...     IC   \n",
       "\n",
       "         Status Desc Crm Cd 1 Crm Cd 2  Crm Cd 3 Crm Cd 4  \\\n",
       "0       Adult Arrest    510.0    998.0       NaN      NaN   \n",
       "1        Invest Cont    330.0    998.0       NaN      NaN   \n",
       "2        Invest Cont    480.0      NaN       NaN      NaN   \n",
       "3        Invest Cont    343.0      NaN       NaN      NaN   \n",
       "4        Invest Cont    510.0      NaN       NaN      NaN   \n",
       "...              ...      ...      ...       ...      ...   \n",
       "986868   Invest Cont    510.0      NaN       NaN      NaN   \n",
       "986869   Invest Cont    745.0      NaN       NaN      NaN   \n",
       "986870   Invest Cont    341.0      NaN       NaN      NaN   \n",
       "986871   Invest Cont    230.0      NaN       NaN      NaN   \n",
       "986872   Invest Cont    510.0      NaN       NaN      NaN   \n",
       "\n",
       "                                        LOCATION  \\\n",
       "0        1900 S  LONGWOOD                     AV   \n",
       "1        1000 S  FLOWER                       ST   \n",
       "2        1400 W  37TH                         ST   \n",
       "3       14000    RIVERSIDE                    DR   \n",
       "4                               200 E  AVENUE 28   \n",
       "...                                          ...   \n",
       "986868   4000 W  23RD                         ST   \n",
       "986869   1300 W  SUNSET                       BL   \n",
       "986870   1700    ALBION                       ST   \n",
       "986871           FLOWER                       ST   \n",
       "986872   6900    VESPER                       AV   \n",
       "\n",
       "                           Cross Street      LAT       LON  \n",
       "0                                  None  34.0375 -118.3506  \n",
       "1                                  None  34.0444 -118.2628  \n",
       "2                                  None  34.0210 -118.3002  \n",
       "3                                  None  34.1576 -118.4387  \n",
       "4                                  None  34.0820 -118.2130  \n",
       "...                                 ...      ...       ...  \n",
       "986868                             None  34.0362 -118.3284  \n",
       "986869                             None  34.0685 -118.2460  \n",
       "986870                             None  34.0675 -118.2240  \n",
       "986871  JEFFERSON                    BL  34.0215 -118.2868  \n",
       "986872                             None  34.1961 -118.4510  \n",
       "\n",
       "[986873 rows x 28 columns]"
      ]
     },
     "execution_count": 94,
     "metadata": {},
     "output_type": "execute_result"
    }
   ],
   "source": [
    "df_s.toPandas()"
   ]
  },
  {
   "cell_type": "markdown",
   "id": "c7b52378-d387-4434-b294-8a80187a2e68",
   "metadata": {},
   "source": [
    "# Creating a Dataframe"
   ]
  },
  {
   "cell_type": "code",
   "execution_count": 95,
   "id": "c426860e-5d27-4277-b6ce-e12e8054f163",
   "metadata": {},
   "outputs": [],
   "source": [
    "example = spark.createDataFrame([\n",
    "    Row(a=1, b=2., c='string1', d=date(2000, 1, 1), e=datetime(2000, 1, 1, 12, 0)),\n",
    "    Row(a=2, b=3., c='string2', d=date(2000, 2, 1), e=datetime(2000, 1, 2, 12, 0)),\n",
    "    Row(a=4, b=5., c='string3', d=date(2000, 3, 1), e=datetime(2000, 1, 3, 12, 0))\n",
    "])\n",
    "\n",
    "#explictly\n",
    "example_expl = spark.createDataFrame(\n",
    "  data = [(1, 2., 'string1', date(2000, 1, 1), datetime(2000, 1, 1, 12, 0)), \n",
    "          (2, 3., 'string2', date(2000, 2, 1), datetime(2000, 1, 2, 12, 0)), \n",
    "          (4, 5., 'string3', date(2000, 3, 1), datetime(2000, 1, 3, 12, 0))],\n",
    "  schema = StructType([\n",
    "    StructField('a', IntegerType(), False),\n",
    "    StructField('b', FloatType(), False),\n",
    "    StructField('c', StringType(), False),\n",
    "    StructField('d', DateType(), False),\n",
    "    StructField('e', TimestampType(), False),\n",
    "\n",
    "  ])\n",
    ")"
   ]
  },
  {
   "cell_type": "code",
   "execution_count": 96,
   "id": "d2b4e924-8746-4578-bab7-1d3ade990529",
   "metadata": {},
   "outputs": [
    {
     "name": "stderr",
     "output_type": "stream",
     "text": [
      "                                                                                \r"
     ]
    },
    {
     "name": "stdout",
     "output_type": "stream",
     "text": [
      "+---+---+-------+----------+-------------------+\n",
      "|  a|  b|      c|         d|                  e|\n",
      "+---+---+-------+----------+-------------------+\n",
      "|  1|2.0|string1|2000-01-01|2000-01-01 12:00:00|\n",
      "|  2|3.0|string2|2000-02-01|2000-01-02 12:00:00|\n",
      "|  4|5.0|string3|2000-03-01|2000-01-03 12:00:00|\n",
      "+---+---+-------+----------+-------------------+\n",
      "\n"
     ]
    }
   ],
   "source": [
    "example.show()"
   ]
  },
  {
   "cell_type": "code",
   "execution_count": 97,
   "id": "bb3a5530-02f0-4881-8ef0-c308e9a15709",
   "metadata": {},
   "outputs": [
    {
     "name": "stdout",
     "output_type": "stream",
     "text": [
      "+---+---+-------+----------+-------------------+\n",
      "|  a|  b|      c|         d|                  e|\n",
      "+---+---+-------+----------+-------------------+\n",
      "|  1|2.0|string1|2000-01-01|2000-01-01 12:00:00|\n",
      "|  2|3.0|string2|2000-02-01|2000-01-02 12:00:00|\n",
      "|  4|5.0|string3|2000-03-01|2000-01-03 12:00:00|\n",
      "+---+---+-------+----------+-------------------+\n",
      "\n"
     ]
    }
   ],
   "source": [
    "example_expl.show()"
   ]
  },
  {
   "cell_type": "markdown",
   "id": "12b514cb-72c4-412d-ac39-f94736f5e284",
   "metadata": {},
   "source": [
    "# Lazy Evaluation"
   ]
  },
  {
   "cell_type": "markdown",
   "id": "60382d04-209f-4d74-8105-34e946611c23",
   "metadata": {},
   "source": [
    "Although query is present, it is not executed unless we apply action like show, take, reduce"
   ]
  },
  {
   "cell_type": "code",
   "execution_count": 98,
   "id": "10e58a70-441c-43c8-a788-d9f096153f45",
   "metadata": {},
   "outputs": [
    {
     "data": {
      "text/plain": [
       "DataFrame[DR_NO: int, Date Rptd: string, DATE OCC: string, TIME OCC: int, AREA: int, AREA NAME: string, Rpt Dist No: int, Part 1-2: int, Crm Cd: int, Crm Cd Desc: string, Mocodes: string, Vict Age: int, Vict Sex: string, Vict Descent: string, Premis Cd: int, Premis Desc: string, Weapon Used Cd: int, Weapon Desc: string, Status: string, Status Desc: string, Crm Cd 1: int, Crm Cd 2: int, Crm Cd 3: int, Crm Cd 4: int, LOCATION: string, Cross Street: string, LAT: double, LON: double]"
      ]
     },
     "execution_count": 98,
     "metadata": {},
     "output_type": "execute_result"
    }
   ],
   "source": [
    "df_s.filter(df_s.LOCATION.contains(\"1900 S  LONGWOOD\"))"
   ]
  },
  {
   "cell_type": "markdown",
   "id": "fb261939-a65f-455b-8fa0-9480785e629c",
   "metadata": {},
   "source": [
    "It will not query even when setting it to a new variable"
   ]
  },
  {
   "cell_type": "code",
   "execution_count": 99,
   "id": "b473da12-282a-401a-8204-acc8a3b0d6a9",
   "metadata": {},
   "outputs": [
    {
     "data": {
      "text/plain": [
       "DataFrame[DR_NO: int, Date Rptd: string, DATE OCC: string, TIME OCC: int, AREA: int, AREA NAME: string, Rpt Dist No: int, Part 1-2: int, Crm Cd: int, Crm Cd Desc: string, Mocodes: string, Vict Age: int, Vict Sex: string, Vict Descent: string, Premis Cd: int, Premis Desc: string, Weapon Used Cd: int, Weapon Desc: string, Status: string, Status Desc: string, Crm Cd 1: int, Crm Cd 2: int, Crm Cd 3: int, Crm Cd 4: int, LOCATION: string, Cross Street: string, LAT: double, LON: double]"
      ]
     },
     "execution_count": 99,
     "metadata": {},
     "output_type": "execute_result"
    }
   ],
   "source": [
    "test_wil = df_s.filter(df_s.LOCATION.contains(\"1900 S  LONGWOOD\"))\n",
    "test_wil"
   ]
  },
  {
   "cell_type": "code",
   "execution_count": 100,
   "id": "22465f81-07de-48bd-8a15-c537a11bbf9d",
   "metadata": {},
   "outputs": [
    {
     "name": "stdout",
     "output_type": "stream",
     "text": [
      "+---------+--------------------+--------------------+--------+----+---------+-----------+--------+------+----------------+-------+--------+--------+------------+---------+-----------+--------------+-----------+------+------------+--------+--------+--------+--------+--------------------+------------+-------+---------+\n",
      "|    DR_NO|           Date Rptd|            DATE OCC|TIME OCC|AREA|AREA NAME|Rpt Dist No|Part 1-2|Crm Cd|     Crm Cd Desc|Mocodes|Vict Age|Vict Sex|Vict Descent|Premis Cd|Premis Desc|Weapon Used Cd|Weapon Desc|Status| Status Desc|Crm Cd 1|Crm Cd 2|Crm Cd 3|Crm Cd 4|            LOCATION|Cross Street|    LAT|      LON|\n",
      "+---------+--------------------+--------------------+--------+----+---------+-----------+--------+------+----------------+-------+--------+--------+------------+---------+-----------+--------------+-----------+------+------------+--------+--------+--------+--------+--------------------+------------+-------+---------+\n",
      "|190326475|03/01/2020 12:00:...|03/01/2020 12:00:...|    2130|   7| Wilshire|        784|       1|   510|VEHICLE - STOLEN|   NULL|       0|       M|           O|      101|     STREET|          NULL|       NULL|    AA|Adult Arrest|     510|     998|    NULL|    NULL|1900 S  LONGWOOD ...|        NULL|34.0375|-118.3506|\n",
      "+---------+--------------------+--------------------+--------+----+---------+-----------+--------+------+----------------+-------+--------+--------+------------+---------+-----------+--------------+-----------+------+------------+--------+--------+--------+--------+--------------------+------------+-------+---------+\n",
      "only showing top 1 row\n",
      "\n"
     ]
    }
   ],
   "source": [
    "df_s.filter(df_s.LOCATION.contains(\"1900 S  LONGWOOD\")).show(1)"
   ]
  },
  {
   "cell_type": "markdown",
   "id": "f2c3adaa-9dad-4097-9910-88b64e6bf7aa",
   "metadata": {},
   "source": [
    "#### Can create Pandas function to apply to DataFrame"
   ]
  },
  {
   "cell_type": "code",
   "execution_count": 101,
   "id": "5e93121c-d718-4c3b-9056-ab0f07c1a233",
   "metadata": {},
   "outputs": [],
   "source": [
    "@pandas_udf('long')\n",
    "def pandas_multiply(series: pd.Series) -> pd.Series:\n",
    "    return series **2"
   ]
  },
  {
   "cell_type": "markdown",
   "id": "4facc206-4375-417c-8ebd-c80176ee769c",
   "metadata": {},
   "source": [
    "**withColumn() creates a new column**"
   ]
  },
  {
   "cell_type": "code",
   "execution_count": 102,
   "id": "70c2d7ed-eb63-4af1-a548-8c90bfef679e",
   "metadata": {},
   "outputs": [
    {
     "name": "stdout",
     "output_type": "stream",
     "text": [
      "+----+------------+\n",
      "|AREA|Area squared|\n",
      "+----+------------+\n",
      "|   7|          49|\n",
      "|   1|           1|\n",
      "|   3|           9|\n",
      "+----+------------+\n",
      "only showing top 3 rows\n",
      "\n"
     ]
    },
    {
     "name": "stderr",
     "output_type": "stream",
     "text": [
      "                                                                                \r"
     ]
    }
   ],
   "source": [
    "new_df = df_s.withColumn('Area Squared', pandas_multiply(df_s.AREA))\n",
    "df_s.withColumn('Area Squared', pandas_multiply(df_s.AREA)).select('AREA', 'Area squared').show(3)"
   ]
  },
  {
   "cell_type": "markdown",
   "id": "c88082df-5591-4313-a149-c4fcf945b46c",
   "metadata": {},
   "source": [
    "DataFrame is immutable, so you must set it to new variable to get new changes"
   ]
  },
  {
   "cell_type": "code",
   "execution_count": 103,
   "id": "c8b760b4-136d-4ec7-a9d0-74bb89ed6524",
   "metadata": {},
   "outputs": [
    {
     "data": {
      "text/plain": [
       "False"
      ]
     },
     "execution_count": 103,
     "metadata": {},
     "output_type": "execute_result"
    }
   ],
   "source": [
    "'Area Squared' in df_s.columns"
   ]
  },
  {
   "cell_type": "code",
   "execution_count": 104,
   "id": "c44e0063-750e-403b-80cb-5918cf4df5d6",
   "metadata": {},
   "outputs": [
    {
     "data": {
      "text/plain": [
       "True"
      ]
     },
     "execution_count": 104,
     "metadata": {},
     "output_type": "execute_result"
    }
   ],
   "source": [
    "'Area Squared' in new_df.columns"
   ]
  },
  {
   "cell_type": "markdown",
   "id": "59af8412-53a8-43a9-8875-e7ff90808aad",
   "metadata": {},
   "source": [
    "**We can drop columns**"
   ]
  },
  {
   "cell_type": "code",
   "execution_count": 105,
   "id": "3c0e9acf-7d72-404b-91f6-bb6360b36192",
   "metadata": {},
   "outputs": [
    {
     "data": {
      "text/plain": [
       "False"
      ]
     },
     "execution_count": 105,
     "metadata": {},
     "output_type": "execute_result"
    }
   ],
   "source": [
    "tmp_df = df_s.drop(\"Mocodes\")\n",
    "'Mocodes' in tmp_df.columns"
   ]
  },
  {
   "cell_type": "markdown",
   "id": "bb7d99dc-95bb-4b29-b213-6cb8e8670b66",
   "metadata": {},
   "source": [
    "We can filter out NA rows"
   ]
  },
  {
   "cell_type": "code",
   "execution_count": 106,
   "id": "992109a1-f27a-4601-839e-8dae9042a3db",
   "metadata": {},
   "outputs": [
    {
     "name": "stdout",
     "output_type": "stream",
     "text": [
      "+--------------------+\n",
      "|            LOCATION|\n",
      "+--------------------+\n",
      "|1900 S  LONGWOOD ...|\n",
      "|1000 S  FLOWER   ...|\n",
      "+--------------------+\n",
      "only showing top 2 rows\n",
      "\n"
     ]
    }
   ],
   "source": [
    "df_na = df_s.na.drop(\"all\", subset=[\"Mocodes\", \"LOCATION\"])\n",
    "df_na.select('LOCATION').show(2)"
   ]
  },
  {
   "cell_type": "markdown",
   "id": "3ad72d23-0769-44ab-bc08-9e389d9c8ae8",
   "metadata": {},
   "source": [
    "We can group data, apply function, then show results"
   ]
  },
  {
   "cell_type": "code",
   "execution_count": 107,
   "id": "da0d2526-ccd2-4479-ba89-f74a1a486e25",
   "metadata": {},
   "outputs": [
    {
     "name": "stderr",
     "output_type": "stream",
     "text": [
      "[Stage 17:====>                                                   (1 + 11) / 12]\r"
     ]
    },
    {
     "name": "stdout",
     "output_type": "stream",
     "text": [
      "+--------------------+------------------+\n",
      "|            LOCATION|     avg(Vict Age)|\n",
      "+--------------------+------------------+\n",
      "|10TH             ...|28.044444444444444|\n",
      "|900 W  OLYMPIC   ...|  30.4235807860262|\n",
      "|1500    4TH      ...| 30.91176470588235|\n",
      "+--------------------+------------------+\n",
      "only showing top 3 rows\n",
      "\n"
     ]
    },
    {
     "name": "stderr",
     "output_type": "stream",
     "text": [
      "                                                                                \r"
     ]
    }
   ],
   "source": [
    "new_df.groupby('LOCATION').agg(avg('Vict Age')).select('LOCATION', 'avg(Vict Age)').show(3)"
   ]
  },
  {
   "cell_type": "markdown",
   "id": "626251c1-b649-4aab-9eac-b5a53145ddc3",
   "metadata": {},
   "source": [
    "# Parallelizing"
   ]
  },
  {
   "cell_type": "markdown",
   "id": "61ff54db-439d-4dac-8693-063372b9ab71",
   "metadata": {},
   "source": [
    "#### Comparing completely merging 2 large datasets in pandas vs pyspark"
   ]
  },
  {
   "cell_type": "code",
   "execution_count": 43,
   "id": "618dca32-e78e-4245-917b-a4194f06f4a6",
   "metadata": {},
   "outputs": [
    {
     "name": "stdout",
     "output_type": "stream",
     "text": [
      "Time 50.367986954 seconds\n"
     ]
    }
   ],
   "source": [
    "s3 = time.time_ns()\n",
    "merg_df = pd.concat([df, df_large])\n",
    "e3 = time.time_ns()\n",
    "print(\"Time\", ((e3-s3)/(10**9)), \"seconds\")"
   ]
  },
  {
   "cell_type": "code",
   "execution_count": 108,
   "id": "b06381be-4a5f-4486-ade8-f103965cfa90",
   "metadata": {},
   "outputs": [
    {
     "data": {
      "text/plain": [
       "DataFrame[DR_NO: int, Date Rptd: string, DATE OCC: string, TIME OCC: int, AREA: int, AREA NAME: string, Rpt Dist No: int, Part 1-2: int, Crm Cd: int, Crm Cd Desc: string, Mocodes: string, Vict Age: int, Vict Sex: string, Vict Descent: string, Premis Cd: int, Premis Desc: string, Weapon Used Cd: int, Weapon Desc: string, Status: string, Status Desc: string, Crm Cd 1: int, Crm Cd 2: int, Crm Cd 3: int, Crm Cd 4: int, LOCATION: string, Cross Street: string, LAT: double, LON: double, new: int]"
      ]
     },
     "execution_count": 108,
     "metadata": {},
     "output_type": "execute_result"
    }
   ],
   "source": [
    "df_s.withColumn(\"new\", lit(20))"
   ]
  },
  {
   "cell_type": "code",
   "execution_count": 116,
   "id": "539d8e2e-e22f-454e-9299-a00b42468056",
   "metadata": {},
   "outputs": [
    {
     "data": {
      "text/plain": [
       "28"
      ]
     },
     "execution_count": 116,
     "metadata": {},
     "output_type": "execute_result"
    }
   ],
   "source": [
    "ex = s_large.withColumn(\"age\", col(\"Year\"))\n",
    "ex = ex.withColumn(\"v1\", lit(220)).withColumn(\"v2\", lit(\"state\")).withColumn(\"state\", lit(\"No\"))\n",
    "ex = ex.withColumn(\"v3\", lit(91)).withColumn(\"v4\", lit(93))"
   ]
  },
  {
   "cell_type": "code",
   "execution_count": 118,
   "id": "984becd7-8e7a-4718-bdb9-deb1f54b6da4",
   "metadata": {},
   "outputs": [
    {
     "name": "stdout",
     "output_type": "stream",
     "text": [
      "Time 0.039191869 seconds\n"
     ]
    }
   ],
   "source": [
    "s4 = time.time_ns()\n",
    "df3 = ex.union(df_s)\n",
    "e4 = time.time_ns()\n",
    "print(\"Time\", ((e4-s4)/(10**9)), \"seconds\")"
   ]
  },
  {
   "cell_type": "markdown",
   "id": "55d53638-28a5-4944-9db5-852f70d805e8",
   "metadata": {},
   "source": [
    "# Working with SQL"
   ]
  },
  {
   "cell_type": "markdown",
   "id": "ab381f9b-2de5-4783-866d-958e0ad70a7f",
   "metadata": {},
   "source": [
    "#### Create temporary view of dataframe"
   ]
  },
  {
   "cell_type": "code",
   "execution_count": 29,
   "id": "15f267ba-6e9c-4953-8eb0-94e2c8264db0",
   "metadata": {},
   "outputs": [
    {
     "name": "stdout",
     "output_type": "stream",
     "text": [
      "+--------+\n",
      "|count(1)|\n",
      "+--------+\n",
      "|  986873|\n",
      "+--------+\n",
      "\n"
     ]
    }
   ],
   "source": [
    "df_s.createOrReplaceTempView(\"tableA\")\n",
    "spark.sql(\"SELECT count(*) from tableA\").show()"
   ]
  },
  {
   "cell_type": "markdown",
   "id": "397ddcd5-2870-4fa2-b270-40fe133d1897",
   "metadata": {},
   "source": [
    "#### Can use our own functions with sql"
   ]
  },
  {
   "cell_type": "code",
   "execution_count": 31,
   "id": "1759f97e-f4b1-4e22-b1f4-7684088c1cf1",
   "metadata": {},
   "outputs": [
    {
     "name": "stderr",
     "output_type": "stream",
     "text": [
      "24/12/11 12:08:17 WARN SimpleFunctionRegistry: The function reduce replaced a previously registered function.\n"
     ]
    },
    {
     "name": "stdout",
     "output_type": "stream",
     "text": [
      "+------------+\n",
      "|reduce(AREA)|\n",
      "+------------+\n",
      "|           3|\n",
      "|           0|\n",
      "|           1|\n",
      "+------------+\n",
      "only showing top 3 rows\n",
      "\n"
     ]
    }
   ],
   "source": [
    "@pandas_udf(\"integer\")\n",
    "def reduce(s: pd.Series) -> pd.Series:\n",
    "    return s/2\n",
    "\n",
    "spark.udf.register(\"reduce\", reduce)\n",
    "spark.sql(\"SELECT reduce(AREA) FROM tableA\").show(3)"
   ]
  },
  {
   "cell_type": "code",
   "execution_count": 32,
   "id": "164d22f5-d61b-43f1-8502-3ad393850741",
   "metadata": {},
   "outputs": [],
   "source": [
    "spark.stop()\n",
    "sc.stop()\n",
    "# remember to stop "
   ]
  }
 ],
 "metadata": {
  "kernelspec": {
   "display_name": "Python 3 (ipykernel)",
   "language": "python",
   "name": "python3"
  },
  "language_info": {
   "codemirror_mode": {
    "name": "ipython",
    "version": 3
   },
   "file_extension": ".py",
   "mimetype": "text/x-python",
   "name": "python",
   "nbconvert_exporter": "python",
   "pygments_lexer": "ipython3",
   "version": "3.10.12"
  }
 },
 "nbformat": 4,
 "nbformat_minor": 5
}
